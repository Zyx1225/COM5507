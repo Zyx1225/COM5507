{
 "cells": [
  {
   "cell_type": "code",
   "execution_count": null,
   "id": "da929fd8",
   "metadata": {},
   "outputs": [],
   "source": [
    "import pandas as pd\n",
    "from textblob import TextBlob\n",
    "import matplotlib.pyplot as plt\n",
    "\n",
    "# 假设您已经有一个包含评论的数据框\n",
    "data = pd.read_csv('/Users/sherryxue/Desktop/Gu.csv')\n",
    "\n",
    "# 简单的情感分析\n",
    "def analyze_sentiment(text):\n",
    "    if isinstance(text, str):\n",
    "        return TextBlob(text).sentiment.polarity\n",
    "    return 0.0\n",
    "\n",
    "data['sentiment'] = data['Comment'].apply(analyze_sentiment)\n",
    "\n",
    "# 定义一个不文明关键词列表\n",
    "uncivil_keywords = ['天朝', '双面人', '营销']  # 请用实际的脏话和侮辱性词汇替换这些占位符\n",
    "\n",
    "# 关键词分析\n",
    "def contains_uncivil_language(text, keywords):\n",
    "    if isinstance(text, str):\n",
    "        return any(keyword in text for keyword in keywords)\n",
    "    return False\n",
    "\n",
    "data['uncivil'] = data['Comment'].apply(lambda x: contains_uncivil_language(x, uncivil_keywords))\n",
    "\n",
    "# 可视化情感分析结果\n",
    "plt.figure(figsize=(10, 6))\n",
    "plt.hist(data[data['uncivil']]['sentiment'], bins=20, color='red', alpha=0.7, label='Uncivil Comments')\n",
    "plt.hist(data[~data['uncivil']]['sentiment'], bins=20, color='green', alpha=0.7, label='Civil Comments')\n",
    "plt.title('Sentiment Distribution of Comments')\n",
    "plt.xlabel('Sentiment Score')\n",
    "plt.ylabel('Number of Comments')\n",
    "plt.legend()\n",
    "plt.show()\n"
   ]
  }
 ],
 "metadata": {
  "kernelspec": {
   "display_name": "Python 3 (ipykernel)",
   "language": "python",
   "name": "python3"
  },
  "language_info": {
   "codemirror_mode": {
    "name": "ipython",
    "version": 3
   },
   "file_extension": ".py",
   "mimetype": "text/x-python",
   "name": "python",
   "nbconvert_exporter": "python",
   "pygments_lexer": "ipython3",
   "version": "3.11.4"
  }
 },
 "nbformat": 4,
 "nbformat_minor": 5
}
